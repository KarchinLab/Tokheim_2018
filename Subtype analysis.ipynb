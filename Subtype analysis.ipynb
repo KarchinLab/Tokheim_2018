{
 "cells": [
  {
   "cell_type": "code",
   "execution_count": 1,
   "metadata": {},
   "outputs": [],
   "source": [
    "# import and set options\n",
    "import warnings\n",
    "warnings.filterwarnings(\"ignore\")\n",
    "import matplotlib.style\n",
    "import matplotlib as mpl\n",
    "mpl.style.use('classic')\n",
    "import rpy2\n",
    "%load_ext rpy2.ipython\n",
    "%matplotlib inline\n",
    "import pandas as pd\n",
    "import matplotlib.pyplot as plt\n",
    "import seaborn as sns\n",
    "import numpy as np\n",
    "import glob\n",
    "import os\n",
    "import scipy.stats as stats\n",
    "import matplotlib as mpl\n",
    "import utils\n",
    "from matplotlib_venn import venn2, venn2_circles\n",
    "mpl.rcParams['pdf.fonttype'] = 42\n",
    "mpl.rcParams['font.family'] = 'Arial'"
   ]
  },
  {
   "cell_type": "markdown",
   "metadata": {},
   "source": [
    "## Cancer subtype analysis"
   ]
  },
  {
   "cell_type": "code",
   "execution_count": 4,
   "metadata": {},
   "outputs": [],
   "source": [
    "df = pd.read_table('CHASMplus/results/subtype_specificity.txt')\n",
    "df['mutation type'] = 'missense'\n",
    "#df['gene'] = df['gene'] + ' (M)'\n",
    "#df2 = pd.read_table('CHASMplus/results/subtype_specificity_tsg.txt')\n",
    "#df2['mutation type'] = 'inactivating'\n",
    "#df2['gene'] = df2['gene'] + ' (I)'\n",
    "#df = pd.concat([df, df2])"
   ]
  },
  {
   "cell_type": "code",
   "execution_count": 5,
   "metadata": {},
   "outputs": [],
   "source": [
    "df['significant'] = 'no'\n",
    "df.loc[df['q-value']<=0.1, 'significant'] = 'yes'"
   ]
  },
  {
   "cell_type": "code",
   "execution_count": 6,
   "metadata": {},
   "outputs": [
    {
     "data": {
      "image/png": "[encoded data removed]",
      "text/plain": [
       "<matplotlib.figure.Figure at 0x111e228d0>"
      ]
     },
     "metadata": {},
     "output_type": "display_data"
    }
   ],
   "source": [
    "blue_pal = sns.cubehelix_palette(9) # sns.cubehelix_palette(9, start=.5, rot=-.75) # sns.cubehelix_palette(9) #sns.color_palette(\"Reds\", 9)\n",
    "counts = df['significant'].value_counts()\n",
    "with sns.plotting_context('paper', font_scale=1.25):\n",
    "    pie_colors = [ blue_pal[5], blue_pal[1],]\n",
    "    labels = ['yes', 'no', ]\n",
    "    patches, texts, autotexts = plt.pie(counts[labels], colors=pie_colors, labels=labels, \n",
    "                                        autopct='%.1f%%', textprops={'fontsize':14})\n",
    "    [ _.set_fontsize(14) for _ in texts ]\n",
    "    plt.title('Genes with\\ncancer subtype enrichment', \n",
    "              fontdict={'verticalalignment': 'bottom', 'fontweight': 'bold', 'fontsize':16})\n",
    "    _ = plt.axis('equal')\n",
    "    plt.tight_layout()\n",
    "    plt.savefig('CHASMplus/figures/figure_3c.pdf')"
   ]
  },
  {
   "cell_type": "code",
   "execution_count": 7,
   "metadata": {},
   "outputs": [],
   "source": [
    "def format_dataframe(df, ctype):\n",
    "    # only pick significant results for that cancer type\n",
    "    cancer_type_df = df[(df['cancer type']==ctype) & (df['q-value']<=0.1)].copy()\n",
    "\n",
    "    # split the information about subtypes\n",
    "    split_df = cancer_type_df['subtype information'].str.split(';', expand=True)\n",
    "\n",
    "    # extract out the percentages\n",
    "    percent_df = split_df.applymap(lambda x: x.split('%')[0]).astype(float)\n",
    "    subtypes = split_df.iloc[0,:].apply(lambda x: x.split(',')[-1][:-1]).values\n",
    "    n = split_df.iloc[0,:].apply(lambda x: x.split(',')[0].split('/')[-1]).values\n",
    "    subtypes = subtypes + ' (n=' + n + ')'\n",
    "    percent_df.columns = subtypes\n",
    "\n",
    "    # add the information about the percentage of samples mutated\n",
    "    cancer_type_df = pd.concat([cancer_type_df, percent_df], axis=1)\n",
    "\n",
    "    # set the index to be the gene names\n",
    "    cancer_type_df = cancer_type_df.set_index('gene', drop=False)\n",
    "    \n",
    "    return cancer_type_df[subtypes].T"
   ]
  },
  {
   "cell_type": "code",
   "execution_count": 8,
   "metadata": {},
   "outputs": [],
   "source": [
    "def create_heatmap(mydf, ctype):\n",
    "    cmap = mpl.colors.ListedColormap(['#ffffff']+sns.cubehelix_palette(100, start=.5, rot=-.75).as_hex()[0:100])\n",
    "\n",
    "    type2color = {'missense': \"#3498db\", 'inactivating': \"#e74c3c\"}\n",
    "    \n",
    "    with sns.plotting_context('paper'):\n",
    "        ax = sns.heatmap(mydf, \n",
    "                    annot=True, linecolor='gray', \n",
    "                    linewidth=.5, square=True,\n",
    "                    fmt='.3g',\n",
    "                    vmin=0, vmax=50.,\n",
    "                    xticklabels=1,\n",
    "                    #row_colors=cancer_type_df['mutation type'].apply(lambda x: type2color[x]),\n",
    "                    #col_cluster=False,\n",
    "                    #cbar_kws={'fraction': .02},\n",
    "                    #cbar=False,\n",
    "                    cmap=cmap)\n",
    "        #cg.ax_row_dendrogram.set_visible(False)\n",
    "        \n",
    "\n",
    "\n",
    "        # make sure tick labels are rotated in the appropriate manner\n",
    "        _ = plt.setp(ax.yaxis.get_majorticklabels(), rotation=0)\n",
    "        _ = plt.setp(ax.xaxis.get_majorticklabels(), rotation=90)\n",
    "\n",
    "        # remove x/y labels\n",
    "        ax.set_xlabel('')\n",
    "        ax.set_ylabel('')\n",
    "        \n",
    "        # remove ticks\n",
    "        ax.xaxis.set_ticks_position('none')\n",
    "        ax.yaxis.set_ticks_position('none')\n",
    "\n",
    "        # add cancer type as title\n",
    "        ax.set_title(ctype)\n",
    "\n",
    "        # fudge figure size to be compatible\n",
    "        vertical_fudge = 3\n",
    "        horizontal_fudge = 3\n",
    "        if plot_df.shape[1] <= 2: horizontal_fudge -= 4\n",
    "        if plot_df.shape[0] <= 2: vertical_fudge -= 4\n",
    "        \n",
    "        base_genes = 5.\n",
    "        base_subtypes = 5.\n",
    "        nsubtypes, ngenes = plot_df.shape\n",
    "        myfig = plt.gcf()\n",
    "        myfig.set_size_inches(ngenes/base_genes*4, nsubtypes/base_subtypes*5)\n",
    "    \n",
    "    return myfig, ax"
   ]
  },
  {
   "cell_type": "code",
   "execution_count": 10,
   "metadata": {},
   "outputs": [
    {
     "data": {
      "text/plain": [
       "<matplotlib.figure.Figure at 0x1a1a4ff550>"
      ]
     },
     "metadata": {},
     "output_type": "display_data"
    }
   ],
   "source": [
    "#cancer_type = 'READ'\n",
    "for cancer_type in df['cancer type'].unique():\n",
    "    plot_df = format_dataframe(df, cancer_type)\n",
    "    fig, ax = create_heatmap(plot_df, cancer_type)\n",
    "    if plot_df.shape[1] > 2:\n",
    "        plt.tight_layout()\n",
    "    plt.savefig('CHASMplus/figures/subtype_analysis/{0}.pdf'.format(cancer_type))\n",
    "    plt.clf()"
   ]
  },
  {
   "cell_type": "code",
   "execution_count": 14,
   "metadata": {},
   "outputs": [
    {
     "data": {
      "text/html": [
       "<div>\n",
       "<style scoped>\n",
       "    .dataframe tbody tr th:only-of-type {\n",
       "        vertical-align: middle;\n",
       "    }\n",
       "\n",
       "    .dataframe tbody tr th {\n",
       "        vertical-align: top;\n",
       "    }\n",
       "\n",
       "    .dataframe thead th {\n",
       "        text-align: right;\n",
       "    }\n",
       "</style>\n",
       "<table border=\"1\" class=\"dataframe\">\n",
       "  <thead>\n",
       "    <tr style=\"text-align: right;\">\n",
       "      <th>gene</th>\n",
       "      <th>PIK3CA</th>\n",
       "      <th>CTNNB1</th>\n",
       "      <th>PPP2R1A</th>\n",
       "      <th>PTEN</th>\n",
       "      <th>FGFR2</th>\n",
       "      <th>MAP3K1</th>\n",
       "      <th>TP53</th>\n",
       "      <th>NFE2L2</th>\n",
       "      <th>CTCF</th>\n",
       "      <th>KRAS</th>\n",
       "      <th>PIK3R2</th>\n",
       "      <th>CHD3</th>\n",
       "    </tr>\n",
       "  </thead>\n",
       "  <tbody>\n",
       "    <tr>\n",
       "      <th>CN_HIGH (n=146)</th>\n",
       "      <td>28.08</td>\n",
       "      <td>2.05</td>\n",
       "      <td>30.14</td>\n",
       "      <td>10.27</td>\n",
       "      <td>2.74</td>\n",
       "      <td>0.00</td>\n",
       "      <td>54.79</td>\n",
       "      <td>0.00</td>\n",
       "      <td>0.00</td>\n",
       "      <td>4.79</td>\n",
       "      <td>0.00</td>\n",
       "      <td>0.00</td>\n",
       "    </tr>\n",
       "    <tr>\n",
       "      <th>CN_LOW (n=118)</th>\n",
       "      <td>48.31</td>\n",
       "      <td>43.22</td>\n",
       "      <td>1.69</td>\n",
       "      <td>32.20</td>\n",
       "      <td>11.02</td>\n",
       "      <td>0.85</td>\n",
       "      <td>4.24</td>\n",
       "      <td>5.08</td>\n",
       "      <td>1.69</td>\n",
       "      <td>16.95</td>\n",
       "      <td>0.85</td>\n",
       "      <td>0.00</td>\n",
       "    </tr>\n",
       "    <tr>\n",
       "      <th>MSI (n=109)</th>\n",
       "      <td>49.54</td>\n",
       "      <td>12.84</td>\n",
       "      <td>2.75</td>\n",
       "      <td>38.53</td>\n",
       "      <td>11.93</td>\n",
       "      <td>2.75</td>\n",
       "      <td>8.26</td>\n",
       "      <td>7.34</td>\n",
       "      <td>6.42</td>\n",
       "      <td>33.94</td>\n",
       "      <td>5.50</td>\n",
       "      <td>0.92</td>\n",
       "    </tr>\n",
       "    <tr>\n",
       "      <th>POLE (n=6)</th>\n",
       "      <td>83.33</td>\n",
       "      <td>50.00</td>\n",
       "      <td>0.00</td>\n",
       "      <td>66.67</td>\n",
       "      <td>0.00</td>\n",
       "      <td>16.67</td>\n",
       "      <td>16.67</td>\n",
       "      <td>0.00</td>\n",
       "      <td>16.67</td>\n",
       "      <td>33.33</td>\n",
       "      <td>0.00</td>\n",
       "      <td>16.67</td>\n",
       "    </tr>\n",
       "  </tbody>\n",
       "</table>\n",
       "</div>"
      ],
      "text/plain": [
       "gene             PIK3CA  CTNNB1  PPP2R1A   PTEN  FGFR2  MAP3K1   TP53  NFE2L2  \\\n",
       "CN_HIGH (n=146)   28.08    2.05    30.14  10.27   2.74    0.00  54.79    0.00   \n",
       "CN_LOW (n=118)    48.31   43.22     1.69  32.20  11.02    0.85   4.24    5.08   \n",
       "MSI (n=109)       49.54   12.84     2.75  38.53  11.93    2.75   8.26    7.34   \n",
       "POLE (n=6)        83.33   50.00     0.00  66.67   0.00   16.67  16.67    0.00   \n",
       "\n",
       "gene              CTCF   KRAS  PIK3R2   CHD3  \n",
       "CN_HIGH (n=146)   0.00   4.79    0.00   0.00  \n",
       "CN_LOW (n=118)    1.69  16.95    0.85   0.00  \n",
       "MSI (n=109)       6.42  33.94    5.50   0.92  \n",
       "POLE (n=6)       16.67  33.33    0.00  16.67  "
      ]
     },
     "execution_count": 14,
     "metadata": {},
     "output_type": "execute_result"
    }
   ],
   "source": [
    "format_dataframe(df, 'UCEC')"
   ]
  }
 ],
 "metadata": {
  "kernelspec": {
   "display_name": "Python 3",
   "language": "python",
   "name": "python3"
  },
  "language_info": {
   "codemirror_mode": {
    "name": "ipython",
    "version": 3
   },
   "file_extension": ".py",
   "mimetype": "text/x-python",
   "name": "python",
   "nbconvert_exporter": "python",
   "pygments_lexer": "ipython3",
   "version": "3.5.4"
  }
 },
 "nbformat": 4,
 "nbformat_minor": 2
}

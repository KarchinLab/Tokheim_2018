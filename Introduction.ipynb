{
 "cells": [
  {
   "cell_type": "markdown",
   "metadata": {},
   "source": [
    "## CHASMplus\n",
    "\n",
    "### About\n",
    "\n",
    "Sequencing studies have statistically implicated genetic drivers of human cancers by distinguishing these from the expected random accumulation of somatic mutations. However, prior work has coarsely focused on driver genes or regions, largely avoiding prediction of individual mutations. Here, we develop and rigorously validate CHASMplus to predict individual driver somatic missense mutations and show it exceeds state-of-the-art performance. Applied to 32 cancer types, CHASMplus identifies 3,527 unique drivers with four times higher prevalence of rare drivers than previously calculated. The prevalence of rare cancer drivers has implications for future interpretation of cancer genomes and genome-driven oncology.\n",
    "\n",
    "#### Data analysis notebooks\n",
    "\n",
    "| Notebook | Related to  | Description |\n",
    "| :------- | :---------- | :---------- |\n",
    "| [Feature importance](Feature importance.ipynb) | Figure 1C  | Ranking of important features used by CHASMplus |\n",
    "| [Benchmark](Benchmark.ipynb) | Figure 2B, Figure S2  | Analysis of the mutation-level benchmark of 12 methods on 7 different benchmarks |\n",
    "| [P-value distribution](Analysis of p-value distribution.ipynb) | Figure S1 | Analysis of the behaviour of the CHASMplus p-value distribution compared to the hotspots method by [Chang et al.](https://www.ncbi.nlm.nih.gov/pubmed/?term=26619011) |\n",
    "| [Discovery summary](Discovery summary.ipynb) | Figure 3 | Characterization of mutations identified as signficant by CHASMplus |\n",
    "| [Driver spectrum](Driver spectrum.ipynb) | Figure 3, Figure 4 | Characterizes whether predicted drivers occur at common, intermediate, or rare frequency |\n",
    "| [Study power](study power.ipynb) | Figure 4A | Statistical power calculation for mutation hotspot detection |\n",
    "| [Cancer type clustering](Clustering of cancer types.ipynb) | Figure 4B | Clustering of cancer types |\n",
    "| [VAF correlation](VAF correlation.ipynb) | Figure S4 | Analysis of the effect of variant allele fraction on CHASMplus predictions |\n",
    "| [Sub-sampling analysis](Sub-sampling analysis.ipynb) | Figure 4C, Figure S5 | Analysis of CHASMplus predictions as a function of sample size |\n",
    "\n",
    "#### Miscellaneous notebooks\n",
    "\n",
    "| Notebook | Related to | Description |\n",
    "| -------- | ---------- | ----------- |\n",
    "| [CHASMplus diagram](CHASMplus diagram.ipynb) | Figure 1 | Small diagrams needed for creating Figure 1 |\n",
    "| [Prepare CRAVAT](Prepare CRAVAT input.ipynb) |  | Formats significant mutations into a format acceptable for CRAVAT as input |\n",
    "\n",
    "### Jupyter Notebooks\n",
    "\n",
    "We have prepared jupyter notebooks to record our analysis of CHASMplus. You can use these notebooks and associated data to look at alternative methods which we have already analyzed, but also potentially compare additional new methods to these established results. For running your own methods, you will need to execute the method yourself on the same mutations and modify the data yourself.\n",
    "\n",
    "#### Download\n",
    "\n",
    "Be sure to be in the directory you would like to use for this protocol. The first step is to obtain the example data. You can use the wget command in bash to download the example data. On Mac, you may need to first install the wget command via HomeBrew by brew install wget. In the following command we assume you are in the top-level directory. On windows you will need to download the file from the URL (without wget) and place it in the jupyter notebook directory.\n",
    "\n",
    "```bash\n",
    "$ wget http://karchinlab.org/data/CHASMplus/Tokheim_NatComm_2018.tar.gz\n",
    "$ tar xvzf Tokheim_NatComm_2018.tar.gz\n",
    "```\n",
    "\n",
    "#### Directory structure\n",
    "\n",
    "The \"data\" folder contains raw data used as input for analysis. The Generated supplementary tables and figures are saved in the \"results\" and \"figures\" folders, respectively. Saved [chimera sessions](https://www.cgl.ucsf.edu/chimera/) for visualizing the CHASMplus results for ATM, ERBB2, and PPP2R1A are found in the chimera directory."
   ]
  }
 ],
 "metadata": {
  "kernelspec": {
   "display_name": "Python 3",
   "language": "python",
   "name": "python3"
  },
  "language_info": {
   "codemirror_mode": {
    "name": "ipython",
    "version": 3
   },
   "file_extension": ".py",
   "mimetype": "text/x-python",
   "name": "python",
   "nbconvert_exporter": "python",
   "pygments_lexer": "ipython3",
   "version": "3.5.4"
  },
  "latex_envs": {
   "bibliofile": "biblio.bib",
   "cite_by": "apalike",
   "current_citInitial": 1,
   "eqLabelWithNumbers": true,
   "eqNumInitial": 0
  }
 },
 "nbformat": 4,
 "nbformat_minor": 2
}

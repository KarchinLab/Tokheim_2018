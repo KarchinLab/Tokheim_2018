{
 "cells": [
  {
   "cell_type": "code",
   "execution_count": 2,
   "metadata": {
    "collapsed": false
   },
   "outputs": [
    {
     "name": "stderr",
     "output_type": "stream",
     "text": [
      "/usr/local/lib/python2.7/site-packages/matplotlib/font_manager.py:273: UserWarning: Matplotlib is building the font cache using fc-list. This may take a moment.\n",
      "  warnings.warn('Matplotlib is building the font cache using fc-list. This may take a moment.')\n"
     ]
    }
   ],
   "source": [
    "# import and set options\n",
    "%matplotlib inline\n",
    "import pandas as pd\n",
    "import seaborn as sns\n",
    "import matplotlib.pyplot as plt\n",
    "import numpy as np\n",
    "import glob\n",
    "import os\n",
    "import scipy.stats as stats\n",
    "import matplotlib as mpl\n",
    "import sklearn\n",
    "from sklearn.metrics import roc_curve, auc\n",
    "import utils\n",
    "mpl.rcParams['pdf.fonttype'] = 42"
   ]
  },
  {
   "cell_type": "markdown",
   "metadata": {},
   "source": [
    "## ATM\n",
    "\n",
    "Explanation of ATM to come.\n",
    "\n",
    "### Prepare data"
   ]
  },
  {
   "cell_type": "markdown",
   "metadata": {},
   "source": [
    "#### TCGA mutations\n",
    "\n",
    "First read the score results for all TCGA mutations."
   ]
  },
  {
   "cell_type": "code",
   "execution_count": 3,
   "metadata": {
    "collapsed": true
   },
   "outputs": [],
   "source": [
    "pancan_df = utils.read_result('PANCAN')"
   ]
  },
  {
   "cell_type": "markdown",
   "metadata": {},
   "source": [
    "Then read the results for ATM."
   ]
  },
  {
   "cell_type": "code",
   "execution_count": 4,
   "metadata": {
    "collapsed": false
   },
   "outputs": [],
   "source": [
    "signif_mc3_atm_df, all_mc3_atm_df = utils.read_atm_result('data/aggregated_results/PANCAN.txt', 'data/aggregated_results/PANCAN.maf')"
   ]
  },
  {
   "cell_type": "code",
   "execution_count": 5,
   "metadata": {
    "collapsed": false,
    "scrolled": false
   },
   "outputs": [],
   "source": [
    "cols_of_interest = ['Tumor_Sample_Barcode', 'CODE', 'HGVSp_Short', 'recurrence', \n",
    "                    'CHASM2_genome', 'CHASM2_genome_pval', 'CHASM2_genome_qval', 'Protein_position',\n",
    "                    'Chromosome', 'Start_Position', 'End_Position', 'Reference_Allele', 'Tumor_Seq_Allele2']\n",
    "all_mc3_atm_df = all_mc3_atm_df[cols_of_interest]"
   ]
  },
  {
   "cell_type": "markdown",
   "metadata": {},
   "source": [
    "#### MSK-IMPACT mutations"
   ]
  },
  {
   "cell_type": "code",
   "execution_count": 6,
   "metadata": {
    "collapsed": true
   },
   "outputs": [],
   "source": [
    "signif_msk_atm_df, all_msk_atm_df = utils.read_atm_result('data/gene_panel/msk_impact.txt', 'data/gene_panel/msk_impact.maf')"
   ]
  },
  {
   "cell_type": "code",
   "execution_count": 7,
   "metadata": {
    "collapsed": false
   },
   "outputs": [],
   "source": [
    "cols_of_interest = ['Tumor_Sample_Barcode', 'HGVSp_Short', 'recurrence','CHASM2_genome', 'CHASM2_genome_pval', 'CHASM2_genome_qval',\n",
    "                    'Protein_position', 'Chromosome', 'Start_Position', 'End_Position', 'Reference_Allele', 'Tumor_Seq_Allele2']\n",
    "all_msk_atm_df = all_msk_atm_df[cols_of_interest]"
   ]
  },
  {
   "cell_type": "markdown",
   "metadata": {},
   "source": [
    "#### Merge MSK/MC3"
   ]
  },
  {
   "cell_type": "code",
   "execution_count": 8,
   "metadata": {
    "collapsed": false
   },
   "outputs": [],
   "source": [
    "# merge the mutations\n",
    "signif_msk_atm_df['Significant MSK-IMPACT (CHASM2)'] = 'yes'\n",
    "signif_mc3_atm_df['Significant TCGA (CHASM2)'] = 'yes'\n",
    "signif_df = pd.merge(signif_mc3_atm_df, signif_msk_atm_df, \n",
    "                     on=['Hugo_Symbol', 'HGVSp_Short'], \n",
    "                     how='outer', suffixes=['', '_msk'])\n",
    "rename_dict = {'recurrence': 'TCGA samples', 'recurrence_msk': 'MSK-IMPACT samples'}\n",
    "signif_df = signif_df.rename(columns=rename_dict)\n",
    "\n",
    "# format columns\n",
    "signif_df['Significant TCGA (CHASM2)'] = signif_df['Significant TCGA (CHASM2)'].fillna('no') \n",
    "signif_df['Significant MSK-IMPACT (CHASM2)'] = signif_df['Significant MSK-IMPACT (CHASM2)'].fillna('no')\n",
    "signif_df['TCGA samples'] = signif_df['TCGA samples'].fillna(0).astype(int)\n",
    "signif_df['MSK-IMPACT samples'] = signif_df['MSK-IMPACT samples'].fillna(0).astype(int)\n",
    "\n",
    "# figure out protein position\n",
    "signif_df['Protein_position'] = signif_df['HGVSp_Short'].str.extract('^p.[A-Z]([0-9]+)[A-Z]$', expand=False)\n",
    "\n",
    "# Overlap on the codon-level\n",
    "signif_df['Study overlap (residue-level)'] = 'no'\n",
    "tcga_pos_list = signif_df[signif_df['Significant TCGA (CHASM2)']=='yes']['Protein_position'].tolist()\n",
    "msk_pos_list = signif_df[signif_df['Significant MSK-IMPACT (CHASM2)']=='yes']['Protein_position'].tolist()\n",
    "overlap = set(tcga_pos_list) & set(msk_pos_list)\n",
    "signif_df.loc[(signif_df['Protein_position'].isin(overlap)), 'Study overlap (residue-level)'] = 'yes'"
   ]
  },
  {
   "cell_type": "code",
   "execution_count": 9,
   "metadata": {
    "collapsed": false
   },
   "outputs": [],
   "source": [
    "cols_of_interest = ['HGVSp_Short', 'Protein_position', 'TCGA samples', 'MSK-IMPACT samples', \n",
    "                    'Significant TCGA (CHASM2)', 'Significant MSK-IMPACT (CHASM2)', 'Study overlap (residue-level)']\n",
    "signif_df[cols_of_interest].to_clipboard(index=False)"
   ]
  },
  {
   "cell_type": "markdown",
   "metadata": {},
   "source": [
    "### Examine distribution of gwCHASM2 scores"
   ]
  },
  {
   "cell_type": "code",
   "execution_count": 10,
   "metadata": {
    "collapsed": false
   },
   "outputs": [
    {
     "data": {
      "image/png": "[encoded data removed]",
      "text/plain": [
       "<matplotlib.figure.Figure at 0x12b3d7c90>"
      ]
     },
     "metadata": {},
     "output_type": "display_data"
    }
   ],
   "source": [
    "with sns.axes_style('ticks'):\n",
    "    sns.distplot(pancan_df['CHASM2_genome'].dropna(), label='all TCGA mutations')\n",
    "    sns.distplot(all_mc3_atm_df['CHASM2_genome'].dropna(), label='all ATM mutations')\n",
    "    plt.xlim((0,1))\n",
    "    plt.gca().xaxis.set_ticks_position('bottom')\n",
    "    plt.gca().yaxis.set_ticks_position('left')\n",
    "    \n",
    "    label = 'Significant ATM mutations'\n",
    "    atm_scores = signif_mc3_atm_df['CHASM2_genome'].unique()\n",
    "    for s in atm_scores:     \n",
    "        plt.axvline(s, color='red', ymax=.05, label=label)\n",
    "        label=''\n",
    "    \n",
    "    plt.ylabel('Density')\n",
    "    plt.xlabel('gwCHASM2 score')\n",
    "    plt.legend(loc='best')"
   ]
  },
  {
   "cell_type": "markdown",
   "metadata": {},
   "source": [
    "### Select ATM mutations for testing\n",
    "\n",
    "First copy all of the mutations found in TGCA or the MSK-IMPACT gene panel to excel."
   ]
  },
  {
   "cell_type": "code",
   "execution_count": 40,
   "metadata": {
    "collapsed": true
   },
   "outputs": [],
   "source": [
    "all_msk_atm_df.to_clipboard()"
   ]
  },
  {
   "cell_type": "code",
   "execution_count": 41,
   "metadata": {
    "collapsed": true
   },
   "outputs": [],
   "source": [
    "all_mc3_atm_df.to_clipboard()"
   ]
  },
  {
   "cell_type": "markdown",
   "metadata": {},
   "source": [
    "Next, prepare a dataframe to randomly sample low scoring ATM mutations."
   ]
  },
  {
   "cell_type": "code",
   "execution_count": 86,
   "metadata": {
    "collapsed": false
   },
   "outputs": [],
   "source": [
    "reduced_cols = ['HGVSp_Short', 'Protein_position', 'CHASM2_genome', 'CHASM2_genome_pval', 'CHASM2_genome_qval',\n",
    "                'Chromosome', 'Start_Position', 'End_Position', 'Reference_Allele', 'Tumor_Seq_Allele2']\n",
    "full_df = pd.concat([all_mc3_atm_df[reduced_cols], all_msk_atm_df[reduced_cols]])\n",
    "full_df = full_df[full_df['CHASM2_genome_pval']>0.05].drop_duplicates(['HGVSp_Short'])\n",
    "full_df['domain'] = 'non-kinase'\n",
    "full_df.loc[full_df['Protein_position'].astype(int)>2612, 'domain'] = 'kinase'"
   ]
  },
  {
   "cell_type": "markdown",
   "metadata": {},
   "source": [
    "Randomly pick two mutations from the kinase domain."
   ]
  },
  {
   "cell_type": "code",
   "execution_count": 90,
   "metadata": {
    "collapsed": false
   },
   "outputs": [
    {
     "data": {
      "text/html": [
       "<div>\n",
       "<table border=\"1\" class=\"dataframe\">\n",
       "  <thead>\n",
       "    <tr style=\"text-align: right;\">\n",
       "      <th></th>\n",
       "      <th>HGVSp_Short</th>\n",
       "      <th>Protein_position</th>\n",
       "      <th>CHASM2_genome</th>\n",
       "      <th>CHASM2_genome_pval</th>\n",
       "      <th>CHASM2_genome_qval</th>\n",
       "      <th>Chromosome</th>\n",
       "      <th>Start_Position</th>\n",
       "      <th>End_Position</th>\n",
       "      <th>Reference_Allele</th>\n",
       "      <th>Tumor_Seq_Allele2</th>\n",
       "      <th>domain</th>\n",
       "    </tr>\n",
       "  </thead>\n",
       "  <tbody>\n",
       "    <tr>\n",
       "      <th>7756</th>\n",
       "      <td>p.M2667L</td>\n",
       "      <td>2667</td>\n",
       "      <td>0.172854</td>\n",
       "      <td>0.453642</td>\n",
       "      <td>0.762152</td>\n",
       "      <td>11</td>\n",
       "      <td>108204684</td>\n",
       "      <td>108204684</td>\n",
       "      <td>A</td>\n",
       "      <td>T</td>\n",
       "      <td>kinase</td>\n",
       "    </tr>\n",
       "    <tr>\n",
       "      <th>753</th>\n",
       "      <td>p.L2965F</td>\n",
       "      <td>2965</td>\n",
       "      <td>0.249480</td>\n",
       "      <td>0.264539</td>\n",
       "      <td>0.610802</td>\n",
       "      <td>11</td>\n",
       "      <td>108235853</td>\n",
       "      <td>108235853</td>\n",
       "      <td>G</td>\n",
       "      <td>T</td>\n",
       "      <td>kinase</td>\n",
       "    </tr>\n",
       "  </tbody>\n",
       "</table>\n",
       "</div>"
      ],
      "text/plain": [
       "     HGVSp_Short Protein_position  CHASM2_genome  CHASM2_genome_pval  \\\n",
       "7756    p.M2667L             2667       0.172854            0.453642   \n",
       "753     p.L2965F             2965       0.249480            0.264539   \n",
       "\n",
       "      CHASM2_genome_qval Chromosome  Start_Position  End_Position  \\\n",
       "7756            0.762152         11       108204684     108204684   \n",
       "753             0.610802         11       108235853     108235853   \n",
       "\n",
       "     Reference_Allele Tumor_Seq_Allele2  domain  \n",
       "7756                A                 T  kinase  \n",
       "753                 G                 T  kinase  "
      ]
     },
     "execution_count": 90,
     "metadata": {},
     "output_type": "execute_result"
    }
   ],
   "source": [
    "prng = np.random.RandomState(101)\n",
    "full_df[full_df['domain']=='kinase'].sample(2, random_state=prng)"
   ]
  },
  {
   "cell_type": "markdown",
   "metadata": {},
   "source": [
    "Randomly pick two mutations from anywhere besides the kinase domain."
   ]
  },
  {
   "cell_type": "code",
   "execution_count": 88,
   "metadata": {
    "collapsed": false
   },
   "outputs": [
    {
     "data": {
      "text/html": [
       "<div>\n",
       "<table border=\"1\" class=\"dataframe\">\n",
       "  <thead>\n",
       "    <tr style=\"text-align: right;\">\n",
       "      <th></th>\n",
       "      <th>HGVSp_Short</th>\n",
       "      <th>Protein_position</th>\n",
       "      <th>CHASM2_genome</th>\n",
       "      <th>CHASM2_genome_pval</th>\n",
       "      <th>CHASM2_genome_qval</th>\n",
       "      <th>Chromosome</th>\n",
       "      <th>Start_Position</th>\n",
       "      <th>End_Position</th>\n",
       "      <th>Reference_Allele</th>\n",
       "      <th>Tumor_Seq_Allele2</th>\n",
       "      <th>domain</th>\n",
       "    </tr>\n",
       "  </thead>\n",
       "  <tbody>\n",
       "    <tr>\n",
       "      <th>72094</th>\n",
       "      <td>p.L1420F</td>\n",
       "      <td>1420</td>\n",
       "      <td>0.110484</td>\n",
       "      <td>0.664918</td>\n",
       "      <td>0.876384</td>\n",
       "      <td>11</td>\n",
       "      <td>108160350</td>\n",
       "      <td>108160350</td>\n",
       "      <td>C</td>\n",
       "      <td>T</td>\n",
       "      <td>non-kinase</td>\n",
       "    </tr>\n",
       "    <tr>\n",
       "      <th>41214</th>\n",
       "      <td>p.L1348W</td>\n",
       "      <td>1348</td>\n",
       "      <td>0.295812</td>\n",
       "      <td>0.181422</td>\n",
       "      <td>0.518030</td>\n",
       "      <td>11</td>\n",
       "      <td>108158376</td>\n",
       "      <td>108158376</td>\n",
       "      <td>T</td>\n",
       "      <td>G</td>\n",
       "      <td>non-kinase</td>\n",
       "    </tr>\n",
       "  </tbody>\n",
       "</table>\n",
       "</div>"
      ],
      "text/plain": [
       "      HGVSp_Short Protein_position  CHASM2_genome  CHASM2_genome_pval  \\\n",
       "72094    p.L1420F             1420       0.110484            0.664918   \n",
       "41214    p.L1348W             1348       0.295812            0.181422   \n",
       "\n",
       "       CHASM2_genome_qval Chromosome  Start_Position  End_Position  \\\n",
       "72094            0.876384         11       108160350     108160350   \n",
       "41214            0.518030         11       108158376     108158376   \n",
       "\n",
       "      Reference_Allele Tumor_Seq_Allele2      domain  \n",
       "72094                C                 T  non-kinase  \n",
       "41214                T                 G  non-kinase  "
      ]
     },
     "execution_count": 88,
     "metadata": {},
     "output_type": "execute_result"
    }
   ],
   "source": [
    "full_df[full_df['domain']=='non-kinase'].sample(2, random_state=prng)"
   ]
  },
  {
   "cell_type": "code",
   "execution_count": 69,
   "metadata": {
    "collapsed": false
   },
   "outputs": [
    {
     "ename": "NameError",
     "evalue": "name 'msk_impact_atm' is not defined",
     "output_type": "error",
     "traceback": [
      "\u001b[0;31m---------------------------------------------------------------------------\u001b[0m",
      "\u001b[0;31mNameError\u001b[0m                                 Traceback (most recent call last)",
      "\u001b[0;32m<ipython-input-69-15d23a51678e>\u001b[0m in \u001b[0;36m<module>\u001b[0;34m()\u001b[0m\n\u001b[0;32m----> 1\u001b[0;31m \u001b[0;34m','\u001b[0m\u001b[0;34m.\u001b[0m\u001b[0mjoin\u001b[0m\u001b[0;34m(\u001b[0m\u001b[0;34m[\u001b[0m\u001b[0mstr\u001b[0m\u001b[0;34m(\u001b[0m\u001b[0mt\u001b[0m\u001b[0;34m)\u001b[0m\u001b[0;34m+\u001b[0m\u001b[0;34m'.A'\u001b[0m \u001b[0;32mfor\u001b[0m \u001b[0mt\u001b[0m \u001b[0;32min\u001b[0m \u001b[0mset\u001b[0m\u001b[0;34m(\u001b[0m\u001b[0mmsk_impact_atm\u001b[0m\u001b[0;34m)\u001b[0m \u001b[0;34m&\u001b[0m \u001b[0mset\u001b[0m\u001b[0;34m(\u001b[0m\u001b[0mmc3_atm\u001b[0m\u001b[0;34m)\u001b[0m\u001b[0;34m]\u001b[0m\u001b[0;34m)\u001b[0m\u001b[0;34m\u001b[0m\u001b[0m\n\u001b[0m",
      "\u001b[0;31mNameError\u001b[0m: name 'msk_impact_atm' is not defined"
     ]
    }
   ],
   "source": [
    "','.join([str(t)+'.A' for t in set(msk_impact_atm) & set(mc3_atm)])"
   ]
  }
 ],
 "metadata": {
  "kernelspec": {
   "display_name": "Python 2",
   "language": "python",
   "name": "python2"
  },
  "language_info": {
   "codemirror_mode": {
    "name": "ipython",
    "version": 2
   },
   "file_extension": ".py",
   "mimetype": "text/x-python",
   "name": "python",
   "nbconvert_exporter": "python",
   "pygments_lexer": "ipython2",
   "version": "2.7.12"
  },
  "latex_envs": {
   "bibliofile": "biblio.bib",
   "cite_by": "apalike",
   "current_citInitial": 1,
   "eqLabelWithNumbers": true,
   "eqNumInitial": 0
  }
 },
 "nbformat": 4,
 "nbformat_minor": 2
}

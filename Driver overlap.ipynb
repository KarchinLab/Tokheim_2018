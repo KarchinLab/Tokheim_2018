{
 "cells": [
  {
   "cell_type": "code",
   "execution_count": 1,
   "metadata": {},
   "outputs": [],
   "source": [
    "# import and set options\n",
    "import warnings\n",
    "warnings.filterwarnings(\"ignore\")\n",
    "import matplotlib.style\n",
    "import matplotlib as mpl\n",
    "mpl.style.use('classic')\n",
    "import rpy2\n",
    "%load_ext rpy2.ipython\n",
    "%matplotlib inline\n",
    "import pandas as pd\n",
    "import matplotlib.pyplot as plt\n",
    "import seaborn as sns\n",
    "import numpy as np\n",
    "import glob\n",
    "import os\n",
    "import scipy.stats as stats\n",
    "import matplotlib as mpl\n",
    "import utils\n",
    "from matplotlib_venn import venn2, venn2_circles\n",
    "mpl.rcParams['pdf.fonttype'] = 42"
   ]
  },
  {
   "cell_type": "markdown",
   "metadata": {},
   "source": [
    "## Driver overlap\n",
    "\n",
    "This notebook is intended to compare the significant predictions from CHASMplus. It also generates the supplementary table for the significant predictions from CHASMplus."
   ]
  },
  {
   "cell_type": "markdown",
   "metadata": {},
   "source": [
    "### Read in data"
   ]
  },
  {
   "cell_type": "code",
   "execution_count": 2,
   "metadata": {},
   "outputs": [],
   "source": [
    "# read in significant mutations\n",
    "df = utils.read_all_results()\n",
    "var_id = df['Hugo_Symbol'] + '_' + df['HGVSp_Short']\n",
    "df['Variant_ID'] = var_id"
   ]
  },
  {
   "cell_type": "code",
   "execution_count": 3,
   "metadata": {},
   "outputs": [],
   "source": [
    "# read in mutation data\n",
    "mut_df = pd.read_table('CHASMplus/data/aggregated_results/PANCAN.maf')"
   ]
  },
  {
   "cell_type": "markdown",
   "metadata": {},
   "source": [
    "### Overlap of pan-cancer analysis with cancer type-specific analysis"
   ]
  },
  {
   "cell_type": "code",
   "execution_count": 4,
   "metadata": {},
   "outputs": [],
   "source": [
    "pancan_signif_list = df[df['PANCAN_flag']==1].Variant_ID.tolist()\n",
    "cancer_type_signif_list = df[df['Any_cancer_type_flag']==1].Variant_ID.tolist()"
   ]
  },
  {
   "cell_type": "code",
   "execution_count": 5,
   "metadata": {},
   "outputs": [
    {
     "data": {
      "text/plain": [
       "(1369, 479, 2158)"
      ]
     },
     "execution_count": 5,
     "metadata": {},
     "output_type": "execute_result"
    },
    {
     "data": {
      "image/png": "[encoded data removed]",
      "text/plain": [
       "<matplotlib.figure.Figure at 0x1a0fc815c0>"
      ]
     },
     "metadata": {},
     "output_type": "display_data"
    }
   ],
   "source": [
    "utils.venn_diagram(pancan_signif_list, cancer_type_signif_list,\n",
    "                   'Pan-cancer', 'Cancer type-specific',\n",
    "                   title='Comparison among CHASMplus results')"
   ]
  },
  {
   "cell_type": "code",
   "execution_count": 6,
   "metadata": {},
   "outputs": [],
   "source": [
    "mut_df = pd.merge(mut_df, df[['Hugo_Symbol', 'HGVSp_Short', 'PANCAN_flag']], \n",
    "                  on=['Hugo_Symbol', 'HGVSp_Short'], how='left')\n",
    "mut_df['Variant_ID'] = mut_df['Hugo_Symbol'] + '_' + mut_df['HGVSp_Short']"
   ]
  },
  {
   "cell_type": "code",
   "execution_count": 7,
   "metadata": {},
   "outputs": [],
   "source": [
    "mut_df['Cancer_type_flag'] = 0\n",
    "cancer_types = mut_df['CODE'].unique()\n",
    "for c in cancer_types:\n",
    "    # get the significant variants\n",
    "    signif_vars = df[df[c+'_flag']==1].Variant_ID.tolist()\n",
    "    \n",
    "    # flag cancer type specific drivers\n",
    "    is_cancer_type = mut_df['CODE']==c\n",
    "    is_var = mut_df['Variant_ID'].isin(signif_vars)\n",
    "    mut_df.loc[is_cancer_type & is_var, 'Cancer_type_flag'] = 1"
   ]
  },
  {
   "cell_type": "code",
   "execution_count": 8,
   "metadata": {},
   "outputs": [],
   "source": [
    "# figure out variants found only by pan-cancer analysis\n",
    "mut_df['PANCAN_specific_flag'] = 0\n",
    "mut_df.loc[(mut_df['PANCAN_flag']==1) & (mut_df['Cancer_type_flag']==0), 'PANCAN_specific_flag'] = 1"
   ]
  },
  {
   "cell_type": "code",
   "execution_count": 9,
   "metadata": {},
   "outputs": [
    {
     "data": {
      "text/html": [
       "<div>\n",
       "<style scoped>\n",
       "    .dataframe tbody tr th:only-of-type {\n",
       "        vertical-align: middle;\n",
       "    }\n",
       "\n",
       "    .dataframe tbody tr th {\n",
       "        vertical-align: top;\n",
       "    }\n",
       "\n",
       "    .dataframe thead th {\n",
       "        text-align: right;\n",
       "    }\n",
       "</style>\n",
       "<table border=\"1\" class=\"dataframe\">\n",
       "  <thead>\n",
       "    <tr style=\"text-align: right;\">\n",
       "      <th></th>\n",
       "      <th>Cancer_type_flag</th>\n",
       "      <th>PANCAN_specific_flag</th>\n",
       "    </tr>\n",
       "    <tr>\n",
       "      <th>CODE</th>\n",
       "      <th></th>\n",
       "      <th></th>\n",
       "    </tr>\n",
       "  </thead>\n",
       "  <tbody>\n",
       "    <tr>\n",
       "      <th>ACC</th>\n",
       "      <td>15</td>\n",
       "      <td>13</td>\n",
       "    </tr>\n",
       "    <tr>\n",
       "      <th>BLCA</th>\n",
       "      <td>881</td>\n",
       "      <td>135</td>\n",
       "    </tr>\n",
       "    <tr>\n",
       "      <th>BRCA</th>\n",
       "      <td>646</td>\n",
       "      <td>126</td>\n",
       "    </tr>\n",
       "    <tr>\n",
       "      <th>CESC</th>\n",
       "      <td>190</td>\n",
       "      <td>128</td>\n",
       "    </tr>\n",
       "    <tr>\n",
       "      <th>CHOL</th>\n",
       "      <td>13</td>\n",
       "      <td>15</td>\n",
       "    </tr>\n",
       "    <tr>\n",
       "      <th>COAD</th>\n",
       "      <td>392</td>\n",
       "      <td>98</td>\n",
       "    </tr>\n",
       "    <tr>\n",
       "      <th>DLBC</th>\n",
       "      <td>16</td>\n",
       "      <td>31</td>\n",
       "    </tr>\n",
       "    <tr>\n",
       "      <th>ESCA</th>\n",
       "      <td>136</td>\n",
       "      <td>83</td>\n",
       "    </tr>\n",
       "    <tr>\n",
       "      <th>GBM</th>\n",
       "      <td>288</td>\n",
       "      <td>53</td>\n",
       "    </tr>\n",
       "    <tr>\n",
       "      <th>HNSC</th>\n",
       "      <td>616</td>\n",
       "      <td>140</td>\n",
       "    </tr>\n",
       "    <tr>\n",
       "      <th>KICH</th>\n",
       "      <td>17</td>\n",
       "      <td>6</td>\n",
       "    </tr>\n",
       "    <tr>\n",
       "      <th>KIRC</th>\n",
       "      <td>147</td>\n",
       "      <td>48</td>\n",
       "    </tr>\n",
       "    <tr>\n",
       "      <th>KIRP</th>\n",
       "      <td>35</td>\n",
       "      <td>73</td>\n",
       "    </tr>\n",
       "    <tr>\n",
       "      <th>LAML</th>\n",
       "      <td>66</td>\n",
       "      <td>13</td>\n",
       "    </tr>\n",
       "    <tr>\n",
       "      <th>LGG</th>\n",
       "      <td>887</td>\n",
       "      <td>58</td>\n",
       "    </tr>\n",
       "    <tr>\n",
       "      <th>LIHC</th>\n",
       "      <td>264</td>\n",
       "      <td>83</td>\n",
       "    </tr>\n",
       "    <tr>\n",
       "      <th>LUAD</th>\n",
       "      <td>469</td>\n",
       "      <td>153</td>\n",
       "    </tr>\n",
       "    <tr>\n",
       "      <th>LUSC</th>\n",
       "      <td>565</td>\n",
       "      <td>146</td>\n",
       "    </tr>\n",
       "    <tr>\n",
       "      <th>MESO</th>\n",
       "      <td>11</td>\n",
       "      <td>20</td>\n",
       "    </tr>\n",
       "    <tr>\n",
       "      <th>OV</th>\n",
       "      <td>260</td>\n",
       "      <td>69</td>\n",
       "    </tr>\n",
       "    <tr>\n",
       "      <th>PAAD</th>\n",
       "      <td>204</td>\n",
       "      <td>35</td>\n",
       "    </tr>\n",
       "    <tr>\n",
       "      <th>PCPG</th>\n",
       "      <td>31</td>\n",
       "      <td>9</td>\n",
       "    </tr>\n",
       "    <tr>\n",
       "      <th>PRAD</th>\n",
       "      <td>146</td>\n",
       "      <td>50</td>\n",
       "    </tr>\n",
       "    <tr>\n",
       "      <th>READ</th>\n",
       "      <td>113</td>\n",
       "      <td>34</td>\n",
       "    </tr>\n",
       "    <tr>\n",
       "      <th>SARC</th>\n",
       "      <td>43</td>\n",
       "      <td>16</td>\n",
       "    </tr>\n",
       "    <tr>\n",
       "      <th>STAD</th>\n",
       "      <td>280</td>\n",
       "      <td>111</td>\n",
       "    </tr>\n",
       "    <tr>\n",
       "      <th>TGCT</th>\n",
       "      <td>41</td>\n",
       "      <td>6</td>\n",
       "    </tr>\n",
       "    <tr>\n",
       "      <th>THCA</th>\n",
       "      <td>358</td>\n",
       "      <td>12</td>\n",
       "    </tr>\n",
       "    <tr>\n",
       "      <th>THYM</th>\n",
       "      <td>68</td>\n",
       "      <td>17</td>\n",
       "    </tr>\n",
       "    <tr>\n",
       "      <th>UCEC</th>\n",
       "      <td>876</td>\n",
       "      <td>336</td>\n",
       "    </tr>\n",
       "    <tr>\n",
       "      <th>UCS</th>\n",
       "      <td>107</td>\n",
       "      <td>26</td>\n",
       "    </tr>\n",
       "    <tr>\n",
       "      <th>UVM</th>\n",
       "      <td>97</td>\n",
       "      <td>10</td>\n",
       "    </tr>\n",
       "  </tbody>\n",
       "</table>\n",
       "</div>"
      ],
      "text/plain": [
       "      Cancer_type_flag  PANCAN_specific_flag\n",
       "CODE                                        \n",
       "ACC                 15                    13\n",
       "BLCA               881                   135\n",
       "BRCA               646                   126\n",
       "CESC               190                   128\n",
       "CHOL                13                    15\n",
       "COAD               392                    98\n",
       "DLBC                16                    31\n",
       "ESCA               136                    83\n",
       "GBM                288                    53\n",
       "HNSC               616                   140\n",
       "KICH                17                     6\n",
       "KIRC               147                    48\n",
       "KIRP                35                    73\n",
       "LAML                66                    13\n",
       "LGG                887                    58\n",
       "LIHC               264                    83\n",
       "LUAD               469                   153\n",
       "LUSC               565                   146\n",
       "MESO                11                    20\n",
       "OV                 260                    69\n",
       "PAAD               204                    35\n",
       "PCPG                31                     9\n",
       "PRAD               146                    50\n",
       "READ               113                    34\n",
       "SARC                43                    16\n",
       "STAD               280                   111\n",
       "TGCT                41                     6\n",
       "THCA               358                    12\n",
       "THYM                68                    17\n",
       "UCEC               876                   336\n",
       "UCS                107                    26\n",
       "UVM                 97                    10"
      ]
     },
     "execution_count": 9,
     "metadata": {},
     "output_type": "execute_result"
    }
   ],
   "source": [
    "mut_df.groupby('CODE')[['Cancer_type_flag', 'PANCAN_specific_flag']].sum()"
   ]
  },
  {
   "cell_type": "markdown",
   "metadata": {},
   "source": [
    "### Overlap with results from The Cancer Genome Atlas"
   ]
  },
  {
   "cell_type": "code",
   "execution_count": 10,
   "metadata": {},
   "outputs": [],
   "source": [
    "tcga_df = pd.read_table('CHASMplus/data/misc/TCGA_mutation_results.txt')"
   ]
  },
  {
   "cell_type": "code",
   "execution_count": 11,
   "metadata": {},
   "outputs": [],
   "source": [
    "is_pop = tcga_df['Linear (functional) flag']\n",
    "is_cancer = tcga_df['Linear (cancer-focused) flag']\n",
    "is_struct = tcga_df['3D mutational hotspot flag']"
   ]
  },
  {
   "cell_type": "code",
   "execution_count": 12,
   "metadata": {},
   "outputs": [
    {
     "data": {
      "image/png": "[encoded data removed]",
      "text/plain": [
       "<matplotlib.figure.Figure at 0x1a1bca3978>"
      ]
     },
     "metadata": {},
     "output_type": "display_data"
    }
   ],
   "source": [
    "# all three methods\n",
    "is_consensus = ((is_pop + is_cancer + is_struct)==3) #& (is_struct==1)\n",
    "tcga_signif = (tcga_df[is_consensus]['gene'] + '_' + tcga_df[is_consensus]['protein_change']).tolist()\n",
    "\n",
    "# plott venn diagram comparing CHASMplus to TCGA results\n",
    "utils.venn_diagram(pancan_signif_list, tcga_signif,\n",
    "                   'CHASMplus', '     TCGA (all 3 approaches)',\n",
    "                   title='Overlap of driver missense mutations')\n",
    "plt.savefig('CHASMplus/figures/figure_S3a.pdf')"
   ]
  },
  {
   "cell_type": "code",
   "execution_count": 13,
   "metadata": {},
   "outputs": [
    {
     "data": {
      "image/png": "[encoded data removed]",
      "text/plain": [
       "<matplotlib.figure.Figure at 0x1065d8dd8>"
      ]
     },
     "metadata": {},
     "output_type": "display_data"
    }
   ],
   "source": [
    "# at least two methods\n",
    "is_consensus = ((is_pop + is_cancer + is_struct)>=2) #& (is_struct==1)\n",
    "tcga_signif = (tcga_df[is_consensus]['gene'] + '_' + tcga_df[is_consensus]['protein_change']).tolist()\n",
    "\n",
    "# plott venn diagram comparing CHASMplus to TCGA results\n",
    "utils.venn_diagram(pancan_signif_list, tcga_signif,\n",
    "                   'CHASMplus', 'TCGA (>= 2 approaches)',\n",
    "                   title='Overlap of driver missense mutations')\n",
    "plt.savefig('CHASMplus/figures/figure_S3b.pdf')"
   ]
  },
  {
   "cell_type": "markdown",
   "metadata": {},
   "source": [
    "### Identify novel predictions"
   ]
  },
  {
   "cell_type": "code",
   "execution_count": 16,
   "metadata": {},
   "outputs": [],
   "source": [
    "# read in oncokb\n",
    "oncokb = utils.read_oncokb()\n",
    "\n",
    "# label oncokb variants\n",
    "oncokb_vars = oncokb['Hugo_Symbol'] + '_' + oncokb['HGVSp_Short']\n",
    "df['OncoKB'] = 0\n",
    "df.loc[df['Variant_ID'].isin(oncokb_vars), 'OncoKB'] = 1\n",
    "\n",
    "# oncokb lists TP53 DNA-binding domain missense mutations as likely oncogenic\n",
    "is_tp53 = df['Hugo_Symbol']=='TP53'\n",
    "is_dna_bind_domain = (df['Protein_position'].astype(int)>=102) & (df['Protein_position'].astype(int)<=292)\n",
    "df.loc[is_tp53 & is_dna_bind_domain, 'OncoKB'] = 1\n",
    "\n",
    "# label variants also found in the official TCGA analysis\n",
    "df['official TCGA analysis'] = 0\n",
    "df.loc[df['Variant_ID'].isin(tcga_signif), 'official TCGA analysis'] = 1"
   ]
  },
  {
   "cell_type": "code",
   "execution_count": 17,
   "metadata": {},
   "outputs": [],
   "source": [
    "# figure out what is found by us and not previously\n",
    "is_pancan = df['PANCAN_flag']==1\n",
    "is_any_ctype = df['Any_cancer_type_flag']==1\n",
    "is_not_tcga = df['official TCGA analysis']==0\n",
    "is_not_oncokb = df['OncoKB']==0\n",
    "\n",
    "# Label novel mutations\n",
    "df['Novel'] = 0\n",
    "df.loc[(is_pancan | is_any_ctype) & is_not_tcga & is_not_oncokb, 'Novel']=1"
   ]
  },
  {
   "cell_type": "markdown",
   "metadata": {},
   "source": [
    "### Prepare supplementary tables\n",
    "\n",
    "To merge in information about the rarity of mutations, the \"mutation\" column is needed."
   ]
  },
  {
   "cell_type": "code",
   "execution_count": 18,
   "metadata": {},
   "outputs": [],
   "source": [
    "df['mutation'] = df['Hugo_Symbol'] + '_' + df['Transcript_ID'] + '_' + df['Protein_position']"
   ]
  },
  {
   "cell_type": "markdown",
   "metadata": {},
   "source": [
    "First, create Supplementary Table 2 containing information on the pan-cancer predictions."
   ]
  },
  {
   "cell_type": "code",
   "execution_count": 19,
   "metadata": {},
   "outputs": [],
   "source": [
    "# read in rarity info for pancan\n",
    "pancan_rare_df = pd.read_table('CHASMplus/data/rarity_analysis/PANCAN.txt')\n",
    "\n",
    "# create supplementary table 4\n",
    "supp_table2 = pd.merge(df[df['PANCAN_flag']==1], pancan_rare_df, on='mutation', how='left')\n",
    "supp_table2 = supp_table2.sort_values(['CHASM2_genome'], ascending=False)\n",
    "rename_dict = {\n",
    "    'cancer type': 'cancer type with highest prevalence',\n",
    "    'fraction of samples': 'fraction of samples mutated (highest cancer type)',\n",
    "    'number of mutations': 'number of mutations (highest cancer type)',\n",
    "    'category': 'frequency category (highest cancer type)',\n",
    "    'Any_cancer_type_flag': 'Significant for any cancer type-specific analysis',\n",
    "    'official TCGA analysis': 'Found in official TCGA analysis',\n",
    "    'OncoKB': 'Found in OncoKB',\n",
    "    'CHASM2_genome': 'gwCHASMplus score',\n",
    "    'CHASM2_genome_pval': 'gwCHASMplus p-value',\n",
    "    'PANCAN': 'gwCHASMplus q-value'\n",
    "}\n",
    "supp_table2 = supp_table2.rename(columns=rename_dict)\n",
    "\n",
    "# save supplementary table 2\n",
    "result_cols = ['Hugo_Symbol', 'Transcript_ID', 'HGVSp_Short', 'gwCHASMplus score', \n",
    "               'gwCHASMplus p-value', 'gwCHASMplus q-value', 'cancer type with highest prevalence',\n",
    "               'number of mutations (highest cancer type)',\n",
    "               'fraction of samples mutated (highest cancer type)',\n",
    "               'frequency category (highest cancer type)',\n",
    "               'Significant for any cancer type-specific analysis', \n",
    "               'Found in official TCGA analysis', 'Found in OncoKB', 'Novel'\n",
    "              ]\n",
    "supp_table2[result_cols].to_csv('CHASMplus/results/table_S2.txt', sep='\\t', index=False)"
   ]
  },
  {
   "cell_type": "markdown",
   "metadata": {},
   "source": [
    "The next step is to create Supplementary Table 3, which contains the cancer type-specific results from CHASMplus."
   ]
  },
  {
   "cell_type": "code",
   "execution_count": 20,
   "metadata": {},
   "outputs": [],
   "source": [
    "column_order = [\n",
    "    'Hugo_Symbol', 'Transcript_ID', 'HGVSp_Short', 'Protein_position',\n",
    "    'gwCHASMplus q-value', 'cancer type',\n",
    "    'number of mutations',\n",
    "    'fraction of samples mutated',\n",
    "    'frequency category',\n",
    "    'Significant in CHASMplus pan-cancer analysis', \n",
    "    'Found in official TCGA analysis', 'Found in OncoKB', 'Novel'\n",
    "]\n",
    "\n",
    "ctypes = [c[:-5] for c in df.columns \n",
    "          if c.endswith('_flag') and \n",
    "          not c.startswith('PANCAN') and \n",
    "          not c.startswith('Any')]\n",
    "df_list = []\n",
    "for ctype in ctypes:\n",
    "    tmp_rare_df = pd.read_table('CHASMplus/data/rarity_analysis/{0}.txt'.format(ctype))\n",
    "    \n",
    "    # formatting\n",
    "    tmp_supp_table3 = pd.merge(df[df[ctype+'_flag']==1], tmp_rare_df, on='mutation', how='left')\n",
    "    tmp_supp_table3 = tmp_supp_table3.sort_values(['CHASM2_genome'], ascending=False)\n",
    "    rename_dict = {\n",
    "        'fraction of samples': 'fraction of samples mutated',\n",
    "        'number of mutations': 'number of mutations',\n",
    "        'category': 'frequency category',\n",
    "        'Any_cancer_type_flag': 'Significant for any cancer type-specific analysis',\n",
    "        'official TCGA analysis': 'Found in official TCGA analysis',\n",
    "        'OncoKB': 'Found in OncoKB',\n",
    "        'CHASM2_genome': 'gwCHASMplus score',\n",
    "        'CHASM2_genome_pval': 'gwCHASMplus p-value',\n",
    "        ctype: 'gwCHASMplus q-value',\n",
    "        'PANCAN_flag': 'Significant in CHASMplus pan-cancer analysis'\n",
    "    }\n",
    "    tmp_supp_table3 = tmp_supp_table3.rename(columns=rename_dict)\n",
    "    \n",
    "    # add to df list\n",
    "    df_list.append(tmp_supp_table3[column_order])\n",
    "    \n",
    "# save results\n",
    "supp_table3 = pd.concat(df_list)\n",
    "supp_table3.to_csv('CHASMplus/results/table_S3.txt', sep='\\t', index=False)"
   ]
  },
  {
   "cell_type": "markdown",
   "metadata": {},
   "source": [
    "Prepare supplementary table for melanoma."
   ]
  },
  {
   "cell_type": "code",
   "execution_count": 21,
   "metadata": {},
   "outputs": [],
   "source": [
    "skcm = utils.read_result('SKCM')\n",
    "skcm['SKCM_flag'] = (skcm['SKCM']<=0.01).astype(int)\n",
    "skcm['mutation'] = skcm['Hugo_Symbol'] + '_' + skcm['Transcript_ID'] + '_' + skcm['Protein_position']\n",
    "\n",
    "# read in rarity info for pancan\n",
    "skcm_rare_df = pd.read_table('CHASMplus/data/rarity_analysis/SKCM.txt')\n",
    "\n",
    "# create supplementary table 7\n",
    "supp_table7 = pd.merge(skcm[skcm['SKCM_flag']==1], skcm_rare_df, on='mutation', how='left')\n",
    "supp_table7 = supp_table7.sort_values(['CHASM2_genome'], ascending=False)\n",
    "rename_dict = {\n",
    "    'SKCM': 'gwCHASMplus q-value',\n",
    "    'cancer type': 'cancer type',\n",
    "    'fraction of samples': 'fraction of samples mutated',\n",
    "    'number of mutations': 'number of mutations',\n",
    "    'category': 'frequency category',\n",
    "    'Any_cancer_type_flag': 'Significant for any cancer type-specific analysis',\n",
    "    'official TCGA analysis': 'Found in official TCGA analysis',\n",
    "    'OncoKB': 'Found in OncoKB',\n",
    "    'CHASM2_genome': 'gwCHASMplus score',\n",
    "    'CHASM2_genome_pval': 'gwCHASMplus p-value',\n",
    "    'PANCAN': 'gwCHASMplus q-value'\n",
    "}\n",
    "supp_table7 = supp_table7.rename(columns=rename_dict)\n",
    "\n",
    "result_cols = ['Hugo_Symbol', 'Transcript_ID', 'HGVSp_Short', 'gwCHASMplus score', \n",
    "               'gwCHASMplus p-value', 'gwCHASMplus q-value', 'cancer type',\n",
    "               'number of mutations',\n",
    "               'fraction of samples mutated',\n",
    "               'frequency category',\n",
    "              ]\n",
    "supp_table7[result_cols].to_csv('CHASMplus/results/table_S7.txt', sep='\\t', index=False)"
   ]
  },
  {
   "cell_type": "markdown",
   "metadata": {},
   "source": [
    "### Scratch"
   ]
  },
  {
   "cell_type": "code",
   "execution_count": 38,
   "metadata": {},
   "outputs": [],
   "source": [
    "max_ixs = supp_table5.reset_index().groupby(['cancer type', 'Hugo_Symbol'])['fraction of samples mutated'].idxmax()\n",
    "output_cols = ['cancer type', 'Hugo_Symbol', 'HGVSp_Short', 'fraction of samples mutated', 'frequency category']\n",
    "#supp_table5.loc[max_ixs, output_cols]\n",
    "#supp_table5.groupby(['cancer type', 'Hugo_Symbol']).idxmax()\n",
    "#supp_table5[supp_table5['Hugo_Symbol']=='TP53']\n",
    "#supp_table5.loc[max_ixs, output_cols].sort_values('cancer type')\n",
    "supp_table5.iloc[max_ixs.values][output_cols].to_csv('/Users/ctokheim/Downloads/chasmplus_max_freq.txt', sep='\\t', index=False)"
   ]
  },
  {
   "cell_type": "code",
   "execution_count": 77,
   "metadata": {},
   "outputs": [],
   "source": [
    "dup_cols = ['cancer type', 'Hugo_Symbol', 'Protein_position']\n",
    "no_dup_df = supp_table5.drop_duplicates(subset=dup_cols)\n",
    "overall_frac = no_dup_df.groupby(dup_cols[:2])['fraction of samples mutated'].sum().reset_index()\n",
    "num_muts_by_cat = no_dup_df.groupby(['cancer type', 'Hugo_Symbol', 'frequency category'])['number of mutations'].sum()\n",
    "tot_muts_df = num_muts_by_cat.sum(level=[0,1]).reset_index().rename(columns={'number of mutations': 'total mutations'})\n",
    "num_muts_df = num_muts_by_cat.reset_index()\n",
    "merged_df = pd.merge(num_muts_df, tot_muts_df, on=['cancer type', 'Hugo_Symbol'], how='left')\n",
    "merged_df = pd.merge(merged_df, overall_frac, on=['cancer type', 'Hugo_Symbol'], how='left')\n",
    "merged_df['fraction of frequency category'] = merged_df['number of mutations'] / merged_df['total mutations']\n",
    "formatted_df = pd.pivot_table(merged_df, \n",
    "                              index=['cancer type', 'Hugo_Symbol', 'fraction of samples mutated'], \n",
    "                              values='fraction of frequency category', \n",
    "                              columns='frequency category').fillna(0.0).reset_index()\n",
    "formatted_df.to_csv('/Users/ctokheim/Downloads/chasmplus_freq.txt', sep='\\t', index=False)"
   ]
  }
 ],
 "metadata": {
  "kernelspec": {
   "display_name": "Python 3",
   "language": "python",
   "name": "python3"
  },
  "language_info": {
   "codemirror_mode": {
    "name": "ipython",
    "version": 3
   },
   "file_extension": ".py",
   "mimetype": "text/x-python",
   "name": "python",
   "nbconvert_exporter": "python",
   "pygments_lexer": "ipython3",
   "version": "3.5.4"
  }
 },
 "nbformat": 4,
 "nbformat_minor": 2
}
